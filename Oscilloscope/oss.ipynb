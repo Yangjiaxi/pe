{
 "cells": [
  {
   "cell_type": "code",
   "execution_count": 1,
   "metadata": {},
   "outputs": [],
   "source": [
    "import numpy as np\n",
    "from oss import *"
   ]
  },
  {
   "cell_type": "markdown",
   "metadata": {},
   "source": [
    "# 正弦信号电压与周期"
   ]
  },
  {
   "cell_type": "code",
   "execution_count": 18,
   "metadata": {},
   "outputs": [],
   "source": [
    "generater = {\n",
    "    'f' : 1.11000000, # kHz\n",
    "    'Vpp' : 5.11 # V\n",
    "}\n",
    "\n",
    "measure = {\n",
    "    'Dy' : 1, # V/cm\n",
    "    'Y' : 5.80, # cm\n",
    "    'Dx' : 0.2, # ms/cm\n",
    "    'X' : 4.62 # cm\n",
    "}"
   ]
  },
  {
   "cell_type": "code",
   "execution_count": 19,
   "metadata": {},
   "outputs": [],
   "source": [
    "c, Ur, U = exp1(generater, measure)"
   ]
  },
  {
   "cell_type": "code",
   "execution_count": 20,
   "metadata": {},
   "outputs": [
    {
     "data": {
      "text/plain": [
       "({'T': 0.924, 'Vpp': 5.8}, {'T': 0.0256, 'U': 0.135})"
      ]
     },
     "execution_count": 20,
     "metadata": {},
     "output_type": "execute_result"
    }
   ],
   "source": [
    "c, Ur"
   ]
  },
  {
   "cell_type": "markdown",
   "metadata": {},
   "source": [
    "# 观察李萨如图并测定未知正弦信号频率"
   ]
  },
  {
   "cell_type": "code",
   "execution_count": 25,
   "metadata": {},
   "outputs": [],
   "source": [
    "o2 = {\n",
    "    'Nx' : [1, 1, 2, 2],\n",
    "    'Ny' : [1, 2, 1, 3],\n",
    "    'fx' : [99.712,199.424,49.856,149.568]\n",
    "}"
   ]
  },
  {
   "cell_type": "code",
   "execution_count": 26,
   "metadata": {},
   "outputs": [
    {
     "data": {
      "text/plain": [
       "{'U_A': 0.0,\n",
       " 'U_r': '0.0%',\n",
       " 'f_y': [99.712, 99.712, 99.712, 99.712],\n",
       " 'f_y_bar': 99.712}"
      ]
     },
     "execution_count": 26,
     "metadata": {},
     "output_type": "execute_result"
    }
   ],
   "source": [
    "exp2(o2)"
   ]
  },
  {
   "cell_type": "markdown",
   "metadata": {},
   "source": [
    "# 模拟Y-t求未知频率fy"
   ]
  },
  {
   "cell_type": "code",
   "execution_count": 23,
   "metadata": {},
   "outputs": [],
   "source": [
    "o3 = {\n",
    "    'N' : [1, 2, 3],\n",
    "    'fx' : [99.710,49.856,33.237]\n",
    "}"
   ]
  },
  {
   "cell_type": "code",
   "execution_count": 24,
   "metadata": {},
   "outputs": [
    {
     "data": {
      "text/plain": [
       "{'U_A': 0.000577,\n",
       " 'U_r': '0.00058%',\n",
       " 'f_y': [99.71, 99.712, 99.71100000000001],\n",
       " 'f_y_bar': 99.711}"
      ]
     },
     "execution_count": 24,
     "metadata": {},
     "output_type": "execute_result"
    }
   ],
   "source": [
    "exp3(o3)"
   ]
  },
  {
   "cell_type": "code",
   "execution_count": null,
   "metadata": {},
   "outputs": [],
   "source": []
  }
 ],
 "metadata": {
  "kernelspec": {
   "display_name": "Python 3",
   "language": "python",
   "name": "python3"
  },
  "language_info": {
   "codemirror_mode": {
    "name": "ipython",
    "version": 3
   },
   "file_extension": ".py",
   "mimetype": "text/x-python",
   "name": "python",
   "nbconvert_exporter": "python",
   "pygments_lexer": "ipython3",
   "version": "3.6.4"
  }
 },
 "nbformat": 4,
 "nbformat_minor": 2
}
