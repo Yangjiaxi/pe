{
 "cells": [
  {
   "cell_type": "code",
   "execution_count": 1,
   "metadata": {},
   "outputs": [],
   "source": [
    "from SOU import *"
   ]
  },
  {
   "cell_type": "markdown",
   "metadata": {},
   "source": [
    "# 用共振法测空气中的声速"
   ]
  },
  {
   "cell_type": "code",
   "execution_count": 2,
   "metadata": {},
   "outputs": [
    {
     "name": "stdout",
     "output_type": "stream",
     "text": [
      "[Δl] : [4.63 4.61 4.64 4.64 4.64 4.61]\n",
      "v_空_理 : 347.45\n",
      "Δl : 4.63\n",
      "v_空 : 348.3\n",
      "Δv : 0.85\n",
      "Ur(v) : 0.2446%\n"
     ]
    }
   ],
   "source": [
    "data_1 = {\n",
    "    'f' : 37613, #Hz\n",
    "    't' : 27.0, # °C\n",
    "    'L' : [37.70,42.26,46.68,51.46,56.00,60.80,\n",
    "           65.46,69.92,74.52,79.30,83.84,88.44] #mm\n",
    "}\n",
    "show_dict(run_1(data_1))"
   ]
  },
  {
   "cell_type": "markdown",
   "metadata": {},
   "source": [
    "# 使用相位法测量水中的声速"
   ]
  },
  {
   "cell_type": "code",
   "execution_count": 3,
   "metadata": {},
   "outputs": [
    {
     "name": "stdout",
     "output_type": "stream",
     "text": [
      "[Δl] : [19.54 19.17 20.1  20.51 20.99 22.06]\n",
      "Δl : 20.4\n",
      "v水 : 1588.14\n",
      "U_A(Δl) : 0.43\n",
      "U_B(Δl) : 0.012\n",
      "U(Δl) : 0.43\n",
      "Ur(Δl) : 2.0903%\n",
      "U_A(f) : 27.95\n",
      "U_B(f) : 1\n",
      "U(f) : 27.97\n",
      "Ur(f) : 0.0719%\n",
      "Ur(v水) : 2.0915%\n",
      "U(v水) : 33.22\n"
     ]
    }
   ],
   "source": [
    "data_3 = {\n",
    "    'f' : [38889,38895,39036,38903,38900], #Hz\n",
    "    't' : 27.0, # °C\n",
    "    'L' : [55.60,76.86,96.92,116.06,135.40,149.80,\n",
    "           172.86,191.86,217.54,239.10,261.36,282.14] #mm\n",
    "}\n",
    "show_dict(run_2(data_3))"
   ]
  },
  {
   "cell_type": "code",
   "execution_count": null,
   "metadata": {},
   "outputs": [],
   "source": []
  }
 ],
 "metadata": {
  "kernelspec": {
   "display_name": "Python 3",
   "language": "python",
   "name": "python3"
  },
  "language_info": {
   "codemirror_mode": {
    "name": "ipython",
    "version": 3
   },
   "file_extension": ".py",
   "mimetype": "text/x-python",
   "name": "python",
   "nbconvert_exporter": "python",
   "pygments_lexer": "ipython3",
   "version": "3.6.4"
  }
 },
 "nbformat": 4,
 "nbformat_minor": 2
}
