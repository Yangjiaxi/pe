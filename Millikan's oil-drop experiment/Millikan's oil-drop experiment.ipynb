{
 "cells": [
  {
   "cell_type": "markdown",
   "metadata": {},
   "source": [
    "# 密立根油滴实验\n",
    "## 1. 数据生成器\n",
    "## 2. 实验数据处理器\n",
    "---\n",
    "### 1. 数据完全生成\n",
    "直接执行代码即可\n",
    "\n",
    "### 2. 数据处理\n",
    "a. 计算q与n\n",
    "先`new`一个`BOOM`对象，然后按照`BOOM.out`的`doc`传入参数即可\n",
    "\n",
    "b. 绘图并计算斜率与截距\n",
    "新建一个`list`，有两个`list`元素，第一个`list`是计算出的n的序列，第二个`list`是计算出的q的序列\n",
    "调用`BOOM`的方法`plot_res()`传入这个`list`即可\n",
    "\n",
    "例如：\n",
    "```\n",
    "[[8.0, 13.0, 5.0, 9.0, 2.0, 2.0, 3.0, 3.0, 2.0, 3.0],\n",
    " [1.35, 2.09, 0.78, 1.42, 0.32, 0.32, 0.48, 0.47, 0.32, 0.47]]\n",
    "```"
   ]
  },
  {
   "cell_type": "code",
   "execution_count": 1,
   "metadata": {},
   "outputs": [],
   "source": [
    "import numpy as np\n",
    "import sympy\n",
    "import matplotlib.pyplot as plt\n",
    "import seaborn as sns\n",
    "sns.set()\n",
    "%matplotlib inline"
   ]
  },
  {
   "cell_type": "code",
   "execution_count": 2,
   "metadata": {},
   "outputs": [],
   "source": [
    "class BOOM:\n",
    "    def __init__(self):\n",
    "        self.rho = 981\n",
    "        self.g = 9.795\n",
    "        self.eta = 1.83 * 10 ** -5\n",
    "        self.b = 6.17 * 10 ** -6\n",
    "        self.d = 5 * 10 ** -3\n",
    "        self.l = 1.5 * 10 ** -3\n",
    "        self.p = 76\n",
    "        self.q_0  = 1.6 * 10 ** -19\n",
    "        \n",
    "    def out(self, t_list, U):\n",
    "        '''\n",
    "        @param\n",
    "        t_list: numpy.ndarray, shape=(1, 5), 时间序列，不用包含均值\n",
    "        U: int, 对应电压值\n",
    "        \n",
    "        @return\n",
    "        q: float, 电荷量\n",
    "        n: int, 相对于元电荷的倍数\n",
    "        '''\n",
    "        t_bar = t_list.mean().round(1)\n",
    "        v_g = self.l / t_bar\n",
    "        a = np.sqrt(9 * self.eta * v_g / (2 * self.rho * self.g))\n",
    "        r1 = 18 * np.pi\n",
    "        r2 = np.sqrt(2 * self.rho * self.g)\n",
    "        r3 = (self.eta * self.l) / (t_bar * (1 + self.b / (self.p * a)))\n",
    "        r4 = self.d / U\n",
    "        q = (r1/r2) * (r3**(3/2)) * r4\n",
    "        n = q / self.q_0\n",
    "        return q * 10 ** 18, int(round(n, 0))\n",
    "    \n",
    "    def get_t_bar(self, U, n):\n",
    "        r1 = 18 * np.pi\n",
    "        r2 = np.sqrt(2 * self.rho * self.g)\n",
    "        r4 = self.d / U\n",
    "        q = n * self.q_0\n",
    "        r3 = (q * r2 / (r1 * r4)) ** (2/3)\n",
    "        t_g = sympy.Symbol('t_g')\n",
    "        ts = sympy.solve(r3 - self.eta * self.l / (t_g * (1 + self.b / (self.p * ((9*self.eta * self.l / (2*self.rho*self.g*t_g)) ** (1/2))))), t_g)\n",
    "        if '+' in str(ts[0]):\n",
    "            res = float(str(ts[0]).split('+')[0])\n",
    "            if not 10.0 <= res <= 30.0:\n",
    "                return False, 0\n",
    "            else:\n",
    "                return True, res\n",
    "        else:\n",
    "            return False, 0\n",
    "\n",
    "    def make_ts(self, t_bar):\n",
    "        return np.random.multivariate_normal([t_bar], [[0.3]], 5).round(1)\n",
    "    \n",
    "    def make_data(self):\n",
    "        result = []\n",
    "        Flag = True\n",
    "        count = 0\n",
    "        TOTAL = 10\n",
    "        while Flag:\n",
    "            U = np.random.randint(120, 280)\n",
    "            n = np.random.randint(1, 15)\n",
    "            t = 0\n",
    "            generate, t =  self.get_t_bar(U, n)\n",
    "            if generate == True:\n",
    "                count += 1\n",
    "                if count >= TOTAL:\n",
    "                    Flag = False\n",
    "                print(\"%d / %d\" % (count, TOTAL))\n",
    "                t_l = self.make_ts(t)\n",
    "                q_i, n_i = self.out(t_l, U)\n",
    "                dd = {\n",
    "                    'U' : U,\n",
    "                    'n' : n,\n",
    "                    't_make' : t,\n",
    "                    't_bar' : t_l.mean().round(1),\n",
    "                    't_l' : t_l.tolist(),\n",
    "                    'q_out' : round(q_i * (1 + np.random.randint(-7, 7) / 1000), 2),\n",
    "                    'n_out' : n_i\n",
    "                }\n",
    "                result.append(dd)\n",
    "            else:\n",
    "                print(\"Re\", end=' ')\n",
    "        return result\n",
    "    \n",
    "    def plot_res(self, data):\n",
    "        data[0].append(0)\n",
    "        data[1].append(0)\n",
    "        plt.scatter(data[0][:-1], data[1][:-1], marker='o',color='red', s=30)\n",
    "        A = np.vstack([data[0], np.ones(len(data[0]))]).T\n",
    "        m, c = np.linalg.lstsq(A, np.array(data[1]), rcond=1)[0]\n",
    "        plt.plot(data[0], m * np.array(data[0]) + c)\n",
    "        plt.xticks(np.arange(0, max(data[0])+2, 1))\n",
    "        plt.xlim(-0.3, None)\n",
    "        plt.ylim(-0.1, None)\n",
    "        print(\"Least Square : Y = m * X + c, m = %f, c = %f \" % (m, c))"
   ]
  },
  {
   "cell_type": "code",
   "execution_count": 3,
   "metadata": {},
   "outputs": [
    {
     "name": "stdout",
     "output_type": "stream",
     "text": [
      "1 / 10\n",
      "Re 2 / 10\n",
      "Re 3 / 10\n",
      "Re 4 / 10\n",
      "Re 5 / 10\n",
      "6 / 10\n",
      "Re 7 / 10\n",
      "8 / 10\n",
      "Re 9 / 10\n",
      "10 / 10\n"
     ]
    }
   ],
   "source": [
    "sss = BOOM()\n",
    "data = sss.make_data()"
   ]
  },
  {
   "cell_type": "code",
   "execution_count": 4,
   "metadata": {},
   "outputs": [
    {
     "name": "stdout",
     "output_type": "stream",
     "text": [
      "Least Square : Y = m * X + c, m = 0.163771, c = -0.017246 \n"
     ]
    },
    {
     "data": {
      "image/png": "[encoded data removed]",
      "text/plain": [
       "<matplotlib.figure.Figure at 0x11bf8cba8>"
      ]
     },
     "metadata": {},
     "output_type": "display_data"
    }
   ],
   "source": [
    "n_l = np.array([e['n_out'] for e in data])\n",
    "q_l = np.array([e['q_out'] for e in data])\n",
    "plot_data = np.vstack([n_l, q_l]).tolist()\n",
    "plt.rcParams['figure.figsize'] = [4, 2]\n",
    "plt.rcParams['figure.dpi'] = 144\n",
    "sss.plot_res(plot_data)"
   ]
  },
  {
   "cell_type": "code",
   "execution_count": 5,
   "metadata": {},
   "outputs": [
    {
     "name": "stdout",
     "output_type": "stream",
     "text": [
      "Least Square : Y = m * X + c, m = 0.161719, c = -0.005995 \n"
     ]
    },
    {
     "data": {
      "image/png": "[encoded data removed]",
      "text/plain": [
       "<matplotlib.figure.Figure at 0x11bf8c278>"
      ]
     },
     "metadata": {},
     "output_type": "display_data"
    }
   ],
   "source": [
    "plotter = BOOM()\n",
    "l = [[8.0, 13.0, 5.0, 9.0, 2.0, 2.0, 3.0, 3.0, 2.0, 3.0],\n",
    "     [1.35, 2.09, 0.78, 1.42, 0.32, 0.32, 0.48, 0.47, 0.32, 0.47]]\n",
    "plotter.plot_res(l)"
   ]
  },
  {
   "cell_type": "code",
   "execution_count": null,
   "metadata": {},
   "outputs": [],
   "source": []
  }
 ],
 "metadata": {
  "kernelspec": {
   "display_name": "Python 3",
   "language": "python",
   "name": "python3"
  },
  "language_info": {
   "codemirror_mode": {
    "name": "ipython",
    "version": 3
   },
   "file_extension": ".py",
   "mimetype": "text/x-python",
   "name": "python",
   "nbconvert_exporter": "python",
   "pygments_lexer": "ipython3",
   "version": "3.6.4"
  }
 },
 "nbformat": 4,
 "nbformat_minor": 2
}
