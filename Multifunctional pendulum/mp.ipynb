{
 "cells": [
  {
   "cell_type": "code",
   "execution_count": 3,
   "metadata": {},
   "outputs": [],
   "source": [
    "import numpy as np\n",
    "from mp import *"
   ]
  },
  {
   "cell_type": "markdown",
   "metadata": {},
   "source": [
    "# 用单摆法测本地重力加速度"
   ]
  },
  {
   "cell_type": "code",
   "execution_count": 4,
   "metadata": {},
   "outputs": [],
   "source": [
    "# self\n",
    "d_input = \"2.000+1.998+2.000+2.000+1.998\"\n",
    "l_input = \"30.36+30.39+30.31+30.39+30.41\"\n",
    "T60_input = \"67.44+67.31+67.44+67.72+67.62\"\n",
    "\n",
    "d = input2list(d_input)\n",
    "l = input2list(l_input)\n",
    "T60 = input2list(T60_input)"
   ]
  },
  {
   "cell_type": "code",
   "execution_count": 5,
   "metadata": {},
   "outputs": [],
   "source": [
    "# d = input2list([2.000,1.996,1.999,1.998,1.999]\n",
    "# l = [45.45,45.43,45.47,45.46,45.45]\n",
    "# T60 = [81.46,81.15,81.25,81.23,81.30]"
   ]
  },
  {
   "cell_type": "code",
   "execution_count": 6,
   "metadata": {},
   "outputs": [],
   "source": [
    "n = 5\n",
    "parameter = {\n",
    "    'kp' : 1,\n",
    "    'C' : np.sqrt(3),\n",
    "    'tp' : 1.14,\n",
    "    'P' : 0.683\n",
    "}\n",
    "d_data = C_d(d, parameter)\n",
    "l_data = C_l(l, parameter)\n",
    "L_data = C_L(d_data, l_data)\n",
    "T_data = C_T60(T60, parameter)\n",
    "g_data = C_g(l_data, d_data, L_data, T_data)"
   ]
  },
  {
   "cell_type": "code",
   "execution_count": 7,
   "metadata": {},
   "outputs": [],
   "source": [
    "# obj = [d_data, l_data, L_data, T_data, g_data]\n",
    "# show_data(obj)"
   ]
  },
  {
   "cell_type": "code",
   "execution_count": 8,
   "metadata": {},
   "outputs": [
    {
     "name": "stdout",
     "output_type": "stream",
     "text": [
      "〇、参数\n",
      "\t重复测量次数 n = 5\n",
      "\t取置信概率 P = 68.3%, t_p = 1.14, k_p = 1\n",
      "\t取C = 1.732\n",
      "*********************************************************************\n",
      "一、球直径\n",
      "\t平均 d_bar = 1.999 * 10^[-2] m\n",
      "\tA类不确定度 U_A = 4.9 * 10^[-6] m\n",
      "\tB类不确定度 U_B = 1.155 * 10^[-5] m\n",
      "\t合成不确定度 U_d = 1.433 * 10^[-5] m\n",
      "\t所以 d = d_bar ± U_d = (1.999 * 10^[-2] ± 1.433 * 10^[-5]) m\n",
      "*********************************************************************\n",
      "二、摆线长度\n",
      "\t平均 l_bar = 3.04 * 10^[-1] m\n",
      "\tA类不确定度 U_A = 1.744 * 10^[-4] m\n",
      "\tB类不确定度 U_B = 2.887 * 10^[-4] m\n",
      "\t合成不确定度 U_l = 4.178 * 10^[-4] m\n",
      "\t所以 l = l_bar ± U_l = (3.04 * 10^[-1] ± 4.178 * 10^[-4]) m\n",
      "*********************************************************************\n",
      "三、有效摆长\n",
      "\t有效摆长 L_bar = l_bar + d_bar / 2 = (3.04 * 10^[-1] + 1.999 * 10^[-2] / 2) m = 3.14 * 10^[-1] m\n",
      "\t由误差传递公式 U_L = 4.18 * 10^[-4] m\n",
      "*********************************************************************\n",
      "四、周期\n",
      "\t平均 T_60_bar = 6.751 * 10^[1] s\n",
      "\tA类不确定度 U_A_60 = 7.2774 * 10^[-2] s\n",
      "\tB类不确定度 U_B_60 = 2.001 * 10^[-1] s\n",
      "\t平均到每一个周期:\n",
      "\t平均 T_bar = 1.125 s\n",
      "\tA类不确定度 U_A = 1.2129 * 10^[-3] s\n",
      "\tB类不确定度 U_B = 3.335 * 10^[-3] s\n",
      "\t合成不确定度 U_T = 3.941 * 10^[-3] s\n",
      "\t所以 T = T_bar ± U_T = (1.125 ± 3.941 * 10^[-3]) s\n",
      "*********************************************************************\n",
      "五、重力加速度\n",
      "\t计算可得:g = 4 * π^[2] * 0.31 * 10^[-2] * 1.125^[-2] = 9.7839 m/s^[2]\n",
      "\tUr_g = 0.0071 = 0.71% < 1%  (由不确定度传递公式得到)\n",
      "\tUr_g_c = 0.0010 = 0.10% < 1%  (由相对误差计算公式得到)\n",
      "\t所设计的实验方案[能]达到预期的要求 (基于不确定度传递公式)\n",
      "\tU_g = g * Ur_g = (9.7839 * 0.71%) m/s^[2] = 0.07 m/s^[2]\n",
      "\t综上, g = g_bar ± U_g = (9.78 ± 0.07) m/s^[2]\n"
     ]
    }
   ],
   "source": [
    "make(n, parameter, d_data, l_data, L_data, T_data, g_data)"
   ]
  },
  {
   "cell_type": "markdown",
   "metadata": {},
   "source": [
    "# 用扭摆法测钢丝切变模量"
   ]
  },
  {
   "cell_type": "code",
   "execution_count": 12,
   "metadata": {},
   "outputs": [],
   "source": [
    "# self\n",
    "\n",
    "T5_input = \"6.0218+6.0462+6.0311+6.0297+5.9985/6.8959+6.9764+6.9889+6.9982+6.9831/8.2568+8.2720+8.2033+8.2500+8.1776\"\n",
    "T5 = input2list(T5_input)\n",
    "\n",
    "# # 2d的内侧距离\n",
    "# d2_lower_input = \"\"\n",
    "# d2_lower = input2list(d2_lower_input)\n",
    "\n",
    "# # 2d的外侧距离\n",
    "# d2_upper_input = \"\"\n",
    "# d2_upper = input2list(d2_upper_input)\n",
    "\n",
    "# 计算2d\n",
    "# d2 = C_d2(d2_lower, d2_upper)\n",
    "d2_input = \"5.530+5.520+5.516+5.530+5.528/8.586+8.590+8.518+8.600+8.576/11.530+11.534+11.528+11.610+11.540\"\n",
    "d2 = input2list(d2_input)\n",
    "\n",
    "D_input = \"0.0968+0.0968+0.0974+0.0976+0.0966\"\n",
    "D = input2list(D_input)\n",
    "\n",
    "other = {\n",
    "    'M' : 219.35, # g\n",
    "    'L' : 45.80#  cm\n",
    "}"
   ]
  },
  {
   "cell_type": "code",
   "execution_count": 13,
   "metadata": {},
   "outputs": [],
   "source": [
    "# T5 = [[6.6153,6.6043,6.6070,6.6134,6.6073],\n",
    "#       [7.7377,7.7466,7.7677,7.7299,7.7249],\n",
    "#       [9.1052,9.1057,9.1106,9.1083,9.1054]]\n",
    "\n",
    "# # d2 = [[5.620,5.611,5.598,5.627,5.615],\n",
    "# #       [8.605,8.615,8.604,8.608,8.605],\n",
    "# #       [11.094,11.105,11.107,11.104,11.112]]\n",
    "\n",
    "# # 2d的内侧距离\n",
    "# d2_lower = [[5.006,5.014,5.010,5.012,5.008],\n",
    "#             [8.006,8.002,8.002,8.004,8.004],\n",
    "#             [10.998,11.022,11.006,11.010,11.020]]\n",
    "\n",
    "# # 2d的外侧距离\n",
    "# d2_upper = [[6.186,6.180,6.188,6.190,6.186],\n",
    "#             [9.172,9.190,9.184,9.188,9.178],\n",
    "#             [12.290,12.200,12.194,12.198,12.202]]\n",
    "\n",
    "# d2 = C_d2(d2_lower, d2_upper)\n",
    "\n",
    "# D = [0.0978,0.0980,0.0978,0.0980,0.0981]\n",
    "\n",
    "# other = {\n",
    "#     'M' : 219.69, # g\n",
    "#     'L' : 46.35 # cm\n",
    "# }"
   ]
  },
  {
   "cell_type": "code",
   "execution_count": 14,
   "metadata": {},
   "outputs": [
    {
     "name": "stdout",
     "output_type": "stream",
     "text": [
      "一、周期\n",
      "\t五倍周期5T:\n",
      "\t   6.0255 s\n",
      "\t   6.9685 s\n",
      "\t   8.2319 s\n",
      "\t周期T:\n",
      "\t   1.2051 s\n",
      "\t   1.3937 s\n",
      "\t   1.6464 s\n",
      "*********************************************\n",
      "二、球距\n",
      "\t2d:\n",
      "\t   5.525 cm\n",
      "\t   8.574 cm\n",
      "\t   11.548 cm\n",
      "\td:\n",
      "\t   2.762 cm\n",
      "\t   4.287 cm\n",
      "\t   5.774 cm\n",
      "*********************************************\n",
      "三、钢丝直径\n",
      "\tD = 0.0970 cm\n",
      "*********************************************\n",
      "四、切变模量\n",
      "\tG_[12] = 9.989 * 10^[10] Pa\n",
      "\tG_[13] = 9.308 * 10^[10] Pa\n",
      "\tG_[23] = 8.874 * 10^[10] Pa\n",
      "\tG_bar = mean(G_[ij]) = 9.39 * 10^[10] Pa\n",
      "*********************************************\n",
      "五、相对误差\n",
      "\tUr_G = 0.2195 = 21.95%\n"
     ]
    }
   ],
   "source": [
    "W = Wiggler(T5, d2, D, **other)\n",
    "res = W.run()\n",
    "W.out(res)"
   ]
  },
  {
   "cell_type": "code",
   "execution_count": null,
   "metadata": {},
   "outputs": [],
   "source": []
  },
  {
   "cell_type": "code",
   "execution_count": null,
   "metadata": {},
   "outputs": [],
   "source": []
  }
 ],
 "metadata": {
  "kernelspec": {
   "display_name": "Python 3",
   "language": "python",
   "name": "python3"
  },
  "language_info": {
   "codemirror_mode": {
    "name": "ipython",
    "version": 3
   },
   "file_extension": ".py",
   "mimetype": "text/x-python",
   "name": "python",
   "nbconvert_exporter": "python",
   "pygments_lexer": "ipython3",
   "version": "3.6.4"
  }
 },
 "nbformat": 4,
 "nbformat_minor": 2
}
