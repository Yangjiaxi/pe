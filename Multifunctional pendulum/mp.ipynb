{
 "cells": [
  {
   "cell_type": "code",
   "execution_count": 1,
   "metadata": {},
   "outputs": [],
   "source": [
    "import numpy as np\n",
    "from mp import *"
   ]
  },
  {
   "cell_type": "markdown",
   "metadata": {},
   "source": [
    "# 用单摆法测本地重力加速度"
   ]
  },
  {
   "cell_type": "code",
   "execution_count": 2,
   "metadata": {},
   "outputs": [],
   "source": [
    "d = [1.998,2.000,2.000,1.998,1.998]\n",
    "l = [43.70,43.71,43.69,43.70,43.69]\n",
    "T60 = [80.29,80.22,80.38,80.42,80.36]"
   ]
  },
  {
   "cell_type": "code",
   "execution_count": 3,
   "metadata": {},
   "outputs": [],
   "source": [
    "n = 5\n",
    "parameter = {\n",
    "    'kp' : 1,\n",
    "    'C' : np.sqrt(3),\n",
    "    'tp' : 1.14,\n",
    "    'P' : 0.68\n",
    "}\n",
    "d_data = C_d(d, parameter)\n",
    "l_data = C_l(l, parameter)\n",
    "L_data = C_L(d_data, l_data)\n",
    "T_data = C_T60(T60, parameter)\n",
    "g_data = C_g(l_data, d_data, L_data, T_data)"
   ]
  },
  {
   "cell_type": "code",
   "execution_count": 4,
   "metadata": {},
   "outputs": [],
   "source": [
    "obj = [d_data, l_data, L_data, T_data, g_data]\n",
    "# show_data(obj)"
   ]
  },
  {
   "cell_type": "code",
   "execution_count": 5,
   "metadata": {},
   "outputs": [
    {
     "name": "stdout",
     "output_type": "stream",
     "text": [
      "〇、参数\n",
      "\t重复测量次数 n = 5\n",
      "\t取置信概率 P = 68.0%, t_p = 1.14, k_p = 1\n",
      "\t取C = 1.732\n",
      "*********************************************************************\n",
      "一、球直径\n",
      "\t平均 d_bar = 1.999 * 10^[-2] m\n",
      "\tA类不确定度 U_A = 4.9 * 10^[-6] m\n",
      "\tB类不确定度 U_B = 1.155 * 10^[-5] m\n",
      "\t合成不确定度 U_d = 1.433 * 10^[-5] m\n",
      "\t所以 d = d_bar ± U_d = (1.999 * 10^[-2] ± 1.433 * 10^[-5]) m\n",
      "*********************************************************************\n",
      "二、摆线长度\n",
      "\t平均 l_bar = 4.37 * 10^[-1] m\n",
      "\tA类不确定度 U_A = 3.742 * 10^[-5] m\n",
      "\tB类不确定度 U_B = 2.887 * 10^[-4] m\n",
      "\t合成不确定度 U_l = 2.959 * 10^[-4] m\n",
      "\t所以 l = l_bar ± U_l = (4.37 * 10^[-1] ± 2.959 * 10^[-4]) m\n",
      "*********************************************************************\n",
      "三、有效摆长\n",
      "\t有效摆长L_bar = l_bar + d_bar / 2 = (4.37 * 10^[-1] + 1.999 * 10^[-2] / 2) m = 4.47 * 10^[-1] m\n",
      "\t由误差传递公式U_L = 2.96 * 10^[-4] m\n",
      "*********************************************************************\n",
      "四、周期\n",
      "\t平均 T_60_bar = 8.033 * 10^[1] s\n",
      "\tA类不确定度 U_A_60 = 3.544 * 10^[-2] s\n",
      "\tB类不确定度 U_B_60 = 2.001 * 10^[-1] s\n",
      "\t平均到每一个周期:\n",
      "\t平均 T_bar = 1.339 s\n",
      "\tA类不确定度 U_A = 5.9067 * 10^[-4] s\n",
      "\tB类不确定度 U_B = 3.335 * 10^[-3] s\n",
      "\t合成不确定度 U_T = 3.488 * 10^[-3] s\n",
      "\t所以 T = T_bar ± U_T = (1.339 ± 3.488 * 10^[-3]) s\n",
      "*********************************************************************\n",
      "五、重力加速度\n",
      "\t计算可得:g = 4 * π^[2] * 0.45 * 10^[-2] * 1.339^[-2] = 9.8434 m/s^[2]\n",
      "\tUr_g = 0.0053 = 0.53% < 1%\n",
      "\t所设计的实验方案[能]达到预期的要求\n",
      "\tU_g = g * Ur_g = (9.8434 * 0.53%) m/s^[2] = 0.05 m/s^[2]\n",
      "\t综上, g = g_bar ± U_g = (9.84 ± 0.05) m/s^[2]\n"
     ]
    }
   ],
   "source": [
    "make(n, parameter, d_data, l_data, L_data, T_data, g_data)"
   ]
  },
  {
   "cell_type": "markdown",
   "metadata": {},
   "source": [
    "# 用扭摆法测钢丝切变模量"
   ]
  },
  {
   "cell_type": "code",
   "execution_count": 6,
   "metadata": {},
   "outputs": [],
   "source": [
    "T5 = [[6.3479,6.3372,6.3574,6.3490,6.3337],\n",
    "      [7.4307,7.4250,7.4289,7.4325,7.4280],\n",
    "      [8.7196,8.7113,8.7186,8.7128,8.7112]]\n",
    "\n",
    "d2 = [[5.585,5.586,5.585,5.583,5.585],\n",
    "      [8.591,8.592,8.594,8.592,8.593],\n",
    "      [11.590,11.586,11.591,11.590,11.588]]\n",
    "\n",
    "D = [0.0982,0.0981,0.0981,0.0980,0.0981]\n",
    "\n",
    "other = {\n",
    "    'M' : 220.17, # g\n",
    "    'L' : 44.80 # cm\n",
    "}"
   ]
  },
  {
   "cell_type": "code",
   "execution_count": 7,
   "metadata": {},
   "outputs": [
    {
     "name": "stdout",
     "output_type": "stream",
     "text": [
      "一、周期\n",
      "\t五倍周期5T:\n",
      "\t   6.3450 s\n",
      "\t   7.4290 s\n",
      "\t   8.7147 s\n",
      "\t周期T:\n",
      "\t   1.2690 s\n",
      "\t   1.4858 s\n",
      "\t   1.7429 s\n",
      "*********************************************\n",
      "二、球距\n",
      "\t2d:\n",
      "\t   5.585 cm\n",
      "\t   8.592 cm\n",
      "\t   11.589 cm\n",
      "\td:\n",
      "\t   2.792 cm\n",
      "\t   4.296 cm\n",
      "\t   5.795 cm\n",
      "*********************************************\n",
      "三、钢丝直径\n",
      "\tD = 0.0981 cm\n",
      "*********************************************\n",
      "四、切变模量\n",
      "\tG_[12] = 7.644 * 10^[10] Pa\n",
      "\tG_[13] = 7.734 * 10^[10] Pa\n",
      "\tG_[23] = 7.799 * 10^[10] Pa\n",
      "\tG_bar = mean(G_[ij]) = 7.73 * 10^[10] Pa\n",
      "*********************************************\n",
      "五、相对误差\n",
      "\tUr_G = 0.0034 = 0.34%\n"
     ]
    }
   ],
   "source": [
    "W = Wiggler(T5, d2, D, **other)\n",
    "res = W.run()\n",
    "W.out(res)"
   ]
  },
  {
   "cell_type": "code",
   "execution_count": null,
   "metadata": {},
   "outputs": [],
   "source": []
  }
 ],
 "metadata": {
  "kernelspec": {
   "display_name": "Python 3",
   "language": "python",
   "name": "python3"
  },
  "language_info": {
   "codemirror_mode": {
    "name": "ipython",
    "version": 3
   },
   "file_extension": ".py",
   "mimetype": "text/x-python",
   "name": "python",
   "nbconvert_exporter": "python",
   "pygments_lexer": "ipython3",
   "version": "3.6.4"
  }
 },
 "nbformat": 4,
 "nbformat_minor": 2
}
