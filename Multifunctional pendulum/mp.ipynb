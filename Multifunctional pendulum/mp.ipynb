{
 "cells": [
  {
   "cell_type": "code",
   "execution_count": 24,
   "metadata": {},
   "outputs": [],
   "source": [
    "import numpy as np\n",
    "from mp import *"
   ]
  },
  {
   "cell_type": "markdown",
   "metadata": {},
   "source": [
    "# 用单摆法测本地重力加速度"
   ]
  },
  {
   "cell_type": "code",
   "execution_count": 36,
   "metadata": {},
   "outputs": [],
   "source": [
    "# self\n",
    "d_input = \"1.998+1.998+2.002+2.000+2.002\"\n",
    "l_input = \"35.48+35.49+35.48+35.49+35.48\"\n",
    "T60_input = \"72.78+72.75+72.84+72.87+73.00\"\n",
    "\n",
    "d = input2list(d_input)\n",
    "l = input2list(l_input)\n",
    "T60 = input2list(T60_input)"
   ]
  },
  {
   "cell_type": "code",
   "execution_count": 37,
   "metadata": {},
   "outputs": [],
   "source": [
    "# d = input2list([2.000,1.996,1.999,1.998,1.999]\n",
    "# l = [45.45,45.43,45.47,45.46,45.45]\n",
    "# T60 = [81.46,81.15,81.25,81.23,81.30]"
   ]
  },
  {
   "cell_type": "code",
   "execution_count": 38,
   "metadata": {},
   "outputs": [],
   "source": [
    "n = 5\n",
    "parameter = {\n",
    "    'kp' : 1,\n",
    "    'C' : np.sqrt(3),\n",
    "    'tp' : 1.14,\n",
    "    'P' : 0.683\n",
    "}\n",
    "d_data = C_d(d, parameter)\n",
    "l_data = C_l(l, parameter)\n",
    "L_data = C_L(d_data, l_data)\n",
    "T_data = C_T60(T60, parameter)\n",
    "g_data = C_g(l_data, d_data, L_data, T_data)"
   ]
  },
  {
   "cell_type": "code",
   "execution_count": 39,
   "metadata": {},
   "outputs": [],
   "source": [
    "# obj = [d_data, l_data, L_data, T_data, g_data]\n",
    "# show_data(obj)"
   ]
  },
  {
   "cell_type": "code",
   "execution_count": 40,
   "metadata": {},
   "outputs": [
    {
     "name": "stdout",
     "output_type": "stream",
     "text": [
      "〇、参数\n",
      "\t重复测量次数 n = 5\n",
      "\t取置信概率 P = 68.3%, t_p = 1.14, k_p = 1\n",
      "\t取C = 1.732\n",
      "*********************************************************************\n",
      "一、球直径\n",
      "\t平均 d_bar = 2.0 * 10^[-2] m\n",
      "\tA类不确定度 U_A = 8.9 * 10^[-6] m\n",
      "\tB类不确定度 U_B = 1.155 * 10^[-5] m\n",
      "\t合成不确定度 U_d = 1.932 * 10^[-5] m\n",
      "\t所以 d = d_bar ± U_d = (2.0 * 10^[-2] ± 1.932 * 10^[-5]) m\n",
      "*********************************************************************\n",
      "二、摆线长度\n",
      "\t平均 l_bar = 3.55 * 10^[-1] m\n",
      "\tA类不确定度 U_A = 2.449 * 10^[-5] m\n",
      "\tB类不确定度 U_B = 2.887 * 10^[-4] m\n",
      "\t合成不确定度 U_l = 2.918 * 10^[-4] m\n",
      "\t所以 l = l_bar ± U_l = (3.55 * 10^[-1] ± 2.918 * 10^[-4]) m\n",
      "*********************************************************************\n",
      "三、有效摆长\n",
      "\t有效摆长 L_bar = l_bar + d_bar / 2 = (3.55 * 10^[-1] + 2.0 * 10^[-2] / 2) m = 3.65 * 10^[-1] m\n",
      "\t由误差传递公式 U_L = 2.92 * 10^[-4] m\n",
      "*********************************************************************\n",
      "四、周期\n",
      "\t平均 T_60_bar = 7.285 * 10^[1] s\n",
      "\tA类不确定度 U_A_60 = 4.352 * 10^[-2] s\n",
      "\tB类不确定度 U_B_60 = 2.001 * 10^[-1] s\n",
      "\t平均到每一个周期:\n",
      "\t平均 T_bar = 1.214 s\n",
      "\tA类不确定度 U_A = 7.2534 * 10^[-4] s\n",
      "\tB类不确定度 U_B = 3.335 * 10^[-3] s\n",
      "\t合成不确定度 U_T = 3.564 * 10^[-3] s\n",
      "\t所以 T = T_bar ± U_T = (1.214 ± 3.564 * 10^[-3]) s\n",
      "*********************************************************************\n",
      "五、重力加速度\n",
      "\t计算可得:g = 4 * π^[2] * 0.36 * 10^[-2] * 1.214^[-2] = 9.7708 m/s^[2]\n",
      "\tUr_g = 0.0059 = 0.59% < 1%  (由不确定度传递公式得到)\n",
      "\tUr_g_c = 0.0023 = 0.23% < 1%  (由相对误差计算公式得到)\n",
      "\t所设计的实验方案[能]达到预期的要求 (基于不确定度传递公式)\n",
      "\tU_g = g * Ur_g = (9.7708 * 0.59%) m/s^[2] = 0.06 m/s^[2]\n",
      "\t综上, g = g_bar ± U_g = (9.77 ± 0.06) m/s^[2]\n"
     ]
    }
   ],
   "source": [
    "make(n, parameter, d_data, l_data, L_data, T_data, g_data)"
   ]
  },
  {
   "cell_type": "markdown",
   "metadata": {},
   "source": [
    "# 用扭摆法测钢丝切变模量"
   ]
  },
  {
   "cell_type": "code",
   "execution_count": 41,
   "metadata": {},
   "outputs": [],
   "source": [
    "# self\n",
    "\n",
    "T5_input = \"6.1607+6.1586+6.1614+6.1660+6.1632/7.1522+7.1620+7.1548+7.1614+7.1586/8.3748+8.3830+8.3840+8.3848+8.3684\"\n",
    "T5 = input2list(T5_input)\n",
    "\n",
    "# # 2d的内侧距离\n",
    "# d2_lower_input = \"\"\n",
    "# d2_lower = input2list(d2_lower_input)\n",
    "\n",
    "# # 2d的外侧距离\n",
    "# d2_upper_input = \"\"\n",
    "# d2_upper = input2list(d2_upper_input)\n",
    "\n",
    "# 计算2d\n",
    "# d2 = C_d2(d2_lower, d2_upper)\n",
    "d2_input = \"5.635+5.635+5.641+5.635+5.645/8.645+8.645+8.640+8.642+8.643/11.625+11.630+11.625+11.627+11.626\"\n",
    "d2 = input2list(d2_input)\n",
    "\n",
    "D_input = \"0.0995+0.0997+0.0993+0.0996+0.0994\"\n",
    "D = input2list(D_input)\n",
    "\n",
    "other = {\n",
    "    'M' : 220.81, # g\n",
    "    'L' : 43.90#  cm\n",
    "}"
   ]
  },
  {
   "cell_type": "code",
   "execution_count": 42,
   "metadata": {},
   "outputs": [],
   "source": [
    "# T5 = [[6.6153,6.6043,6.6070,6.6134,6.6073],\n",
    "#       [7.7377,7.7466,7.7677,7.7299,7.7249],\n",
    "#       [9.1052,9.1057,9.1106,9.1083,9.1054]]\n",
    "\n",
    "# # d2 = [[5.620,5.611,5.598,5.627,5.615],\n",
    "# #       [8.605,8.615,8.604,8.608,8.605],\n",
    "# #       [11.094,11.105,11.107,11.104,11.112]]\n",
    "\n",
    "# # 2d的内侧距离\n",
    "# d2_lower = [[5.006,5.014,5.010,5.012,5.008],\n",
    "#             [8.006,8.002,8.002,8.004,8.004],\n",
    "#             [10.998,11.022,11.006,11.010,11.020]]\n",
    "\n",
    "# # 2d的外侧距离\n",
    "# d2_upper = [[6.186,6.180,6.188,6.190,6.186],\n",
    "#             [9.172,9.190,9.184,9.188,9.178],\n",
    "#             [12.290,12.200,12.194,12.198,12.202]]\n",
    "\n",
    "# d2 = C_d2(d2_lower, d2_upper)\n",
    "\n",
    "# D = [0.0978,0.0980,0.0978,0.0980,0.0981]\n",
    "\n",
    "# other = {\n",
    "#     'M' : 219.69, # g\n",
    "#     'L' : 46.35 # cm\n",
    "# }"
   ]
  },
  {
   "cell_type": "code",
   "execution_count": 43,
   "metadata": {},
   "outputs": [
    {
     "name": "stdout",
     "output_type": "stream",
     "text": [
      "一、周期\n",
      "\t五倍周期5T:\n",
      "\t   6.1620 s\n",
      "\t   7.1578 s\n",
      "\t   8.3790 s\n",
      "\t周期T:\n",
      "\t   1.2324 s\n",
      "\t   1.4316 s\n",
      "\t   1.6758 s\n",
      "*********************************************\n",
      "二、球距\n",
      "\t2d:\n",
      "\t   5.638 cm\n",
      "\t   8.643 cm\n",
      "\t   11.627 cm\n",
      "\td:\n",
      "\t   2.819 cm\n",
      "\t   4.322 cm\n",
      "\t   5.813 cm\n",
      "*********************************************\n",
      "三、钢丝直径\n",
      "\tD = 0.0995 cm\n",
      "*********************************************\n",
      "四、切变模量\n",
      "\tG_[12] = 8.041 * 10^[10] Pa\n",
      "\tG_[13] = 7.971 * 10^[10] Pa\n",
      "\tG_[23] = 7.923 * 10^[10] Pa\n",
      "\tG_bar = mean(G_[ij]) = 7.98 * 10^[10] Pa\n",
      "*********************************************\n",
      "五、相对误差\n",
      "\tUr_G = 0.0362 = 3.62%\n"
     ]
    }
   ],
   "source": [
    "W = Wiggler(T5, d2, D, **other)\n",
    "res = W.run()\n",
    "W.out(res)"
   ]
  },
  {
   "cell_type": "code",
   "execution_count": null,
   "metadata": {},
   "outputs": [],
   "source": []
  },
  {
   "cell_type": "code",
   "execution_count": null,
   "metadata": {},
   "outputs": [],
   "source": []
  }
 ],
 "metadata": {
  "kernelspec": {
   "display_name": "Python 3",
   "language": "python",
   "name": "python3"
  },
  "language_info": {
   "codemirror_mode": {
    "name": "ipython",
    "version": 3
   },
   "file_extension": ".py",
   "mimetype": "text/x-python",
   "name": "python",
   "nbconvert_exporter": "python",
   "pygments_lexer": "ipython3",
   "version": "3.6.4"
  }
 },
 "nbformat": 4,
 "nbformat_minor": 2
}
